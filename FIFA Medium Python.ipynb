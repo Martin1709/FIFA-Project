{
 "cells": [
  {
   "cell_type": "code",
   "execution_count": 3,
   "metadata": {},
   "outputs": [
    {
     "data": {
      "text/plain": [
       "<matplotlib.axes._subplots.AxesSubplot at 0x1a1ae71cbc8>"
      ]
     },
     "execution_count": 3,
     "metadata": {},
     "output_type": "execute_result"
    }
   ],
   "source": [
    "import pandas as pd\n",
    "old_df1=pd.read_csv(r'C:\\Users\\ASUS\\Desktop\\Personal Recent\\players_17.csv')\n",
    "old_df2=pd.read_csv(r'C:\\Users\\ASUS\\Desktop\\Personal Recent\\players_18.csv')\n",
    "old_df3=pd.read_csv(r'C:\\Users\\ASUS\\Desktop\\Personal Recent\\players_19.csv')\n",
    "old_df4=pd.read_csv(r'C:\\Users\\ASUS\\Desktop\\Personal Recent\\players_20.csv')\n",
    "df1 = old_df1.loc[:,[\"sofifa_id\",\"short_name\",\"long_name\",\"age\",\"height_cm\",\"weight_kg\",\"nationality\",\"club\",\"overall\",\"preferred_foot\",\"team_jersey_number\",\"pace\",\"shooting\",\"passing\",\"dribbling\",\"defending\",\"physical\",\"gk_diving\",\"gk_handling\",\"gk_kicking\",\"gk_reflexes\",\"gk_speed\",\"gk_positioning\"]]\n",
    "df1['Year']=2017\n",
    "df2 = old_df2.loc[:,[\"sofifa_id\",\"short_name\",\"long_name\",\"age\",\"height_cm\",\"weight_kg\",\"nationality\",\"club\",\"overall\",\"preferred_foot\",\"team_jersey_number\",\"pace\",\"shooting\",\"passing\",\"dribbling\",\"defending\",\"physical\",\"gk_diving\",\"gk_handling\",\"gk_kicking\",\"gk_reflexes\",\"gk_speed\",\"gk_positioning\"]]\n",
    "df2['Year']=2018\n",
    "df3 = old_df3.loc[:,[\"sofifa_id\",\"short_name\",\"long_name\",\"age\",\"height_cm\",\"weight_kg\",\"nationality\",\"club\",\"overall\",\"preferred_foot\",\"team_jersey_number\",\"pace\",\"shooting\",\"passing\",\"dribbling\",\"defending\",\"physical\",\"gk_diving\",\"gk_handling\",\"gk_kicking\",\"gk_reflexes\",\"gk_speed\",\"gk_positioning\"]]\n",
    "df3['Year']=2019\n",
    "df4 = old_df3.loc[:,[\"sofifa_id\",\"short_name\",\"long_name\",\"age\",\"height_cm\",\"weight_kg\",\"nationality\",\"club\",\"overall\",\"preferred_foot\",\"team_jersey_number\",\"pace\",\"shooting\",\"passing\",\"dribbling\",\"defending\",\"physical\",\"gk_diving\",\"gk_handling\",\"gk_kicking\",\"gk_reflexes\",\"gk_speed\",\"gk_positioning\"]]\n",
    "df4['Year']=2020\n",
    "df5=pd.concat([df1,df2,df3,df4])\n",
    "df5.set_index('sofifa_id',inplace=True)\n",
    "df6= df5.loc[[20801,158023]]\n",
    "df5.to_csv(r'C:\\Users\\ASUS\\Desktop\\Personal Recent\\players_17_top_100.csv', index=False, header=True)\n",
    "\n",
    "df6.plot()\n",
    "                                                    "
   ]
  },
  {
   "cell_type": "code",
   "execution_count": 6,
   "metadata": {},
   "outputs": [],
   "source": [
    "df7= df5[df5[\"Year\"]==2017].sort_values(\"overall\",ascending=False)\n",
    "df8=df7.head(10)\n",
    "df9= df5[df5[\"Year\"]==2018].sort_values(\"overall\",ascending=False)\n",
    "df10=df9.head(10)\n",
    "df11= df5[df5[\"Year\"]==2019].sort_values(\"overall\",ascending=False)\n",
    "df12=df11.head(10)\n",
    "df13= df5[df5[\"Year\"]==2020].sort_values(\"overall\",ascending=False)\n",
    "df14=df13.head(10)\n",
    "df15=pd.concat([df8,df10,df12,df14])\n",
    "df15.to_csv(r'C:\\Users\\ASUS\\Desktop\\Personal Recent\\all_players_top_10.csv', index=False, header=True)\n"
   ]
  },
  {
   "cell_type": "code",
   "execution_count": null,
   "metadata": {},
   "outputs": [],
   "source": []
  }
 ],
 "metadata": {
  "kernelspec": {
   "display_name": "Python 3",
   "language": "python",
   "name": "python3"
  },
  "language_info": {
   "codemirror_mode": {
    "name": "ipython",
    "version": 3
   },
   "file_extension": ".py",
   "mimetype": "text/x-python",
   "name": "python",
   "nbconvert_exporter": "python",
   "pygments_lexer": "ipython3",
   "version": "3.7.4"
  }
 },
 "nbformat": 4,
 "nbformat_minor": 2
}
